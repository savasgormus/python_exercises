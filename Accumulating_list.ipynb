{
 "cells": [
  {
   "cell_type": "markdown",
   "id": "e6ca602e",
   "metadata": {},
   "source": [
    "accumulating_list([1, 2, 3, 4]) ➞ [1, 3, 6, 10] [1, 3, 6, 10] can be written as [1, 1 + 2, 1 + 2 + 3, 1 + 2 + 3 + 4]\n",
    "\n",
    "accumulating_list([1, 5, 7]) ➞ [1, 6, 13]\n",
    "\n",
    "accumulating_list([1, 0, 1, 0, 1]) ➞ [1, 1, 2, 2, 3]\n",
    "\n",
    "accumulating_list([]) ➞ []\n",
    "\n",
    "bir önceki ile toplayarak gidiyor."
   ]
  },
  {
   "cell_type": "code",
   "execution_count": 24,
   "id": "4449cbbc",
   "metadata": {},
   "outputs": [
    {
     "name": "stdout",
     "output_type": "stream",
     "text": [
      "[1, 1, 1, 2, 3, 3]\n"
     ]
    }
   ],
   "source": [
    "list1 = [1,0,0,1,1,0]\n",
    "def accumulating_list(list1):\n",
    "    sum = 0              # toplayarak gideceğimiz için\n",
    "    sum_list=[]          # öncelikle boş bir küme oluşturduk.\n",
    "    for i in list1:      # daha sonra for döngüsü içerisine alarak\n",
    "        sum += i         # i'yi bir önceki ile toplayarak kendisine eşitledik.\n",
    "        sum_list.append(sum)\n",
    "    return sum_list\n",
    "    \n",
    "    \n",
    "print(accumulating_list(list1))"
   ]
  }
 ],
 "metadata": {
  "kernelspec": {
   "display_name": "Python 3",
   "language": "python",
   "name": "python3"
  },
  "language_info": {
   "codemirror_mode": {
    "name": "ipython",
    "version": 3
   },
   "file_extension": ".py",
   "mimetype": "text/x-python",
   "name": "python",
   "nbconvert_exporter": "python",
   "pygments_lexer": "ipython3",
   "version": "3.8.8"
  }
 },
 "nbformat": 4,
 "nbformat_minor": 5
}
