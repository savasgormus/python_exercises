{
 "cells": [
  {
   "cell_type": "markdown",
   "id": "73d17850",
   "metadata": {},
   "source": [
    "Numbers = [18,21,14,84,65,35,10,20,28,42,24,91,5,7,54,69] Numbers listesi içindeki sayılardan 7’ e bölünebilenleri küçükten büyüğe doğru olacak şeklide listeleyin. Ayrıca kaç tanesinin 7’ e bölünebildiğini yazdırın."
   ]
  },
  {
   "cell_type": "code",
   "execution_count": 6,
   "id": "9db1cfc0",
   "metadata": {},
   "outputs": [
    {
     "name": "stdout",
     "output_type": "stream",
     "text": [
      "Bu dizede 7'ye bölünebilen 8 sayı vardır.\n",
      "Sayılar [7, 14, 21, 28, 35, 42, 84, 91]'dir\n"
     ]
    }
   ],
   "source": [
    "numbers = [18,21,14,84,65,35,10,20,28,42,24,91,5,7,54,69]\n",
    "\n",
    "division_by_seven = []  # boş bir liste oluşturduk\n",
    "\n",
    "for i in numbers:       \n",
    "    if i % 7 == 0:      # eğer 7'ye kalansız bölünebiliyorsa\n",
    "        division_by_seven.append(i)  # boş listemize ekliyoruz.\n",
    "        \n",
    "print(f\"Bu dizede 7'ye bölünebilen {len(division_by_seven)} sayı vardır.\")\n",
    "print(f\"Sayılar {sorted(division_by_seven)}'dir\")"
   ]
  },
  {
   "cell_type": "code",
   "execution_count": 11,
   "id": "80d592b6",
   "metadata": {},
   "outputs": [
    {
     "name": "stdout",
     "output_type": "stream",
     "text": [
      "[7, 14, 21, 28, 35, 42, 84, 91]\n",
      "liste içerisinde 8 adet sayı 7ye bölünebilir\n"
     ]
    }
   ],
   "source": [
    "# Alternatif çözümler\n",
    "\n",
    "numbers = [18,21,14,84,65,35,10,20,28,42,24,91,5,7,54,69]\n",
    "\n",
    "seven = []\n",
    "\n",
    "for i in numbers:\n",
    "    if i % 7 ==0:\n",
    "        seven.append(i)\n",
    "seven.sort()                 # listeye append ettikten sonra sort metodu kullandık.\n",
    "print(seven)\n",
    "print(\"liste içerisinde {} adet sayı 7ye bölünebilir\".format(len(seven)))"
   ]
  },
  {
   "cell_type": "code",
   "execution_count": 14,
   "id": "67963708",
   "metadata": {},
   "outputs": [
    {
     "name": "stdout",
     "output_type": "stream",
     "text": [
      "[7, 14, 21, 28, 35, 42, 84, 91] \n",
      " 8 adet sayı 7'ye bölünebilir\n"
     ]
    }
   ],
   "source": [
    "numbers = [18,21,14,84,65,35,10,20,28,42,24,91,5,7,54,69]\n",
    "\n",
    "# [i for i in numbers if i % 7 == 0] yukarıdaki for ve if yapısı\n",
    "print(sorted([i for i in numbers if i % 7 == 0]), \"\\n\", len([i for i in numbers if i %7  == 0]), \"adet sayı 7'ye bölünebilir\")"
   ]
  }
 ],
 "metadata": {
  "kernelspec": {
   "display_name": "Python 3",
   "language": "python",
   "name": "python3"
  },
  "language_info": {
   "codemirror_mode": {
    "name": "ipython",
    "version": 3
   },
   "file_extension": ".py",
   "mimetype": "text/x-python",
   "name": "python",
   "nbconvert_exporter": "python",
   "pygments_lexer": "ipython3",
   "version": "3.8.8"
  }
 },
 "nbformat": 4,
 "nbformat_minor": 5
}
